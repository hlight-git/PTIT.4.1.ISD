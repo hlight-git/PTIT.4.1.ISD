{
  "nbformat": 4,
  "nbformat_minor": 0,
  "metadata": {
    "colab": {
      "provenance": [],
      "collapsed_sections": []
    },
    "kernelspec": {
      "name": "python3",
      "display_name": "Python 3"
    },
    "language_info": {
      "name": "python"
    }
  },
  "cells": [
    {
      "cell_type": "markdown",
      "source": [
        "# Unsupervised Learning - Clustering Using K-Means (Học không giám sát - Phân cụm K-means)\n",
        "\n",
        "\n",
        "K-Means clustering là một loại học tập không giám sát:\n",
        "- Được sử dụng khi bạn có dữ liệu chưa được gắn nhãn.\n",
        "- Mục tiêu là tìm các nhóm trong dữ liệu, với số lượng nhóm được đại diện bởi K.\n",
        "\n",
        "Mục tiêu của phân cụm K-Means là đạt được những điều sau:\n",
        "- K centroid đại diện cho trung tâm của các cụm.\n",
        "- Nhãn cho dữ liệu đào tạo."
      ],
      "metadata": {
        "id": "vV7ngWlpC-o_"
      }
    },
    {
      "cell_type": "markdown",
      "source": [
        "## Implementing K-Means in Python - Triển khai K-Means trong Python"
      ],
      "metadata": {
        "id": "HK4iiJoLD3Qu"
      }
    },
    {
      "cell_type": "markdown",
      "source": [
        "### Import libraries"
      ],
      "metadata": {
        "id": "0AA4O2jjSEMv"
      }
    },
    {
      "cell_type": "code",
      "execution_count": null,
      "metadata": {
        "id": "qtxmQACNSBAm"
      },
      "outputs": [],
      "source": [
        "import numpy as np\n",
        "import pandas as pd\n",
        "import matplotlib.pyplot as plt"
      ]
    },
    {
      "cell_type": "markdown",
      "source": [
        "### Load data\n",
        "\n",
        "Tải tệp CSV vào khung dữ liệu Pandas và vẽ biểu đồ phân tán hiển\n",
        "thị các điểm:"
      ],
      "metadata": {
        "id": "eb4rwKhESCsI"
      }
    },
    {
      "cell_type": "code",
      "source": [
        "dataFrame = pd.read_csv(\"kmeans.csv\")\n",
        "plt.scatter(\n",
        "    dataFrame['x'], \n",
        "    dataFrame['y'], \n",
        "    c = 'r', \n",
        "    s = 18\n",
        ")\n"
      ],
      "metadata": {
        "colab": {
          "base_uri": "https://localhost:8080/",
          "height": 282
        },
        "id": "P72PAaMZTwYQ",
        "outputId": "0d4757b9-c5bc-40da-abbd-ebd3b24c4254"
      },
      "execution_count": null,
      "outputs": [
        {
          "output_type": "execute_result",
          "data": {
            "text/plain": [
              "<matplotlib.collections.PathCollection at 0x7f401b949f90>"
            ]
          },
          "metadata": {},
          "execution_count": 4
        },
        {
          "output_type": "display_data",
          "data": {
            "text/plain": [
              "<Figure size 432x288 with 1 Axes>"
            ],
            "image/png": "[encoded data removed]"
          },
          "metadata": {
            "needs_background": "light"
          }
        }
      ]
    },
    {
      "cell_type": "markdown",
      "source": [
        "### Create centroids - Tạo các điểm trọng tâm\n",
        "\n",
        "Giả sử k = 3, ta sẽ cần tạo ra 3 điểm trọng tâm của 3 nhóm ở vị trí bất kỳ:"
      ],
      "metadata": {
        "id": "57kcyH6PUuyF"
      }
    },
    {
      "cell_type": "code",
      "source": [
        "k = 3"
      ],
      "metadata": {
        "id": "YraNbXBTXXZG"
      },
      "execution_count": null,
      "outputs": []
    },
    {
      "cell_type": "markdown",
      "source": [
        "Tạo một ma trận chứa tất cả các điểm:"
      ],
      "metadata": {
        "id": "mDNbEEDZXZEx"
      }
    },
    {
      "cell_type": "code",
      "source": [
        "X = np.array(list(\n",
        "      zip(\n",
        "          dataFrame['x'],\n",
        "          dataFrame['y']\n",
        "      )\n",
        "    ))"
      ],
      "metadata": {
        "id": "7zb605rUXgGn"
      },
      "execution_count": null,
      "outputs": []
    },
    {
      "cell_type": "code",
      "source": [
        "print(X)"
      ],
      "metadata": {
        "colab": {
          "base_uri": "https://localhost:8080/"
        },
        "id": "udE7XpDvxlPh",
        "outputId": "6671e650-ede4-411e-ef22-50821b3dbfe0"
      },
      "execution_count": null,
      "outputs": [
        {
          "output_type": "stream",
          "name": "stdout",
          "text": [
            "[[1 1]\n",
            " [2 2]\n",
            " [2 3]\n",
            " [1 4]\n",
            " [3 3]\n",
            " [6 7]\n",
            " [7 8]\n",
            " [6 8]\n",
            " [7 6]\n",
            " [6 9]\n",
            " [2 5]\n",
            " [7 8]\n",
            " [8 9]\n",
            " [6 7]\n",
            " [7 8]\n",
            " [3 1]\n",
            " [8 4]\n",
            " [8 6]\n",
            " [8 9]]\n"
          ]
        }
      ]
    },
    {
      "cell_type": "markdown",
      "source": [
        "Sinh ra k trọng tâm ở các vị trí bất kỳ:"
      ],
      "metadata": {
        "id": "up8QENyeXgq8"
      }
    },
    {
      "cell_type": "code",
      "source": [
        "Cx = np.random.randint(np.min(X[:,0]), np.max(X[:,0]), size = k)\n",
        "Cy = np.random.randint(np.min(X[:,1]), np.max(X[:,1]), size = k)"
      ],
      "metadata": {
        "id": "UY2YEGvVXkCk"
      },
      "execution_count": null,
      "outputs": []
    },
    {
      "cell_type": "markdown",
      "source": [
        "Biểu diễn k trọng tâm dưới dạng ma trận:"
      ],
      "metadata": {
        "id": "kkj_P_XZXk0y"
      }
    },
    {
      "cell_type": "code",
      "source": [
        "C = np.array(\n",
        "        list(zip(Cx, Cy)), \n",
        "        dtype=np.float64\n",
        "    )\n",
        "print(C)"
      ],
      "metadata": {
        "colab": {
          "base_uri": "https://localhost:8080/"
        },
        "id": "VBhcL0ytVX22",
        "outputId": "c6717734-0df4-47f7-9084-e36e6d84d485"
      },
      "execution_count": null,
      "outputs": [
        {
          "output_type": "stream",
          "name": "stdout",
          "text": [
            "[[6. 2.]\n",
            " [5. 3.]\n",
            " [6. 2.]]\n"
          ]
        }
      ]
    },
    {
      "cell_type": "markdown",
      "source": [
        "Vẽ đồ thị tất cả các điểm:"
      ],
      "metadata": {
        "id": "oyYP4YEvXvQ5"
      }
    },
    {
      "cell_type": "code",
      "source": [
        "plt.scatter(dataFrame['x'], dataFrame['y'], c='r', s=8)\n",
        "plt.scatter(Cx, Cy, marker='*', c='g', s=160)\n",
        "plt.xlabel(\"x\")\n",
        "plt.ylabel(\"y\")"
      ],
      "metadata": {
        "colab": {
          "base_uri": "https://localhost:8080/",
          "height": 296
        },
        "id": "BivA6-GnW7Pl",
        "outputId": "72270d68-6ef3-453f-912a-fdca3fedc8b0"
      },
      "execution_count": null,
      "outputs": [
        {
          "output_type": "execute_result",
          "data": {
            "text/plain": [
              "Text(0, 0.5, 'y')"
            ]
          },
          "metadata": {},
          "execution_count": 10
        },
        {
          "output_type": "display_data",
          "data": {
            "text/plain": [
              "<Figure size 432x288 with 1 Axes>"
            ],
            "image/png": "[encoded data removed]"
          },
          "metadata": {
            "needs_background": "light"
          }
        }
      ]
    },
    {
      "cell_type": "markdown",
      "source": [
        "### K-means algorithm implement - Triển khai thuật toán K-means"
      ],
      "metadata": {
        "id": "1ow1hAtXW452"
      }
    },
    {
      "cell_type": "markdown",
      "source": [
        "Thêm function `deepcopy` để có thể sao chép dữ liệu đối tượng:"
      ],
      "metadata": {
        "id": "rZKWzNR_YD4q"
      }
    },
    {
      "cell_type": "code",
      "source": [
        "from copy import deepcopy"
      ],
      "metadata": {
        "id": "tewYvHqGXSnK"
      },
      "execution_count": null,
      "outputs": []
    },
    {
      "cell_type": "markdown",
      "source": [
        "Định nghĩa một function tính khoảng cách Euclid giữa điểm `point` và các điểm `others`:"
      ],
      "metadata": {
        "id": "rOOv-8b1YG60"
      }
    },
    {
      "cell_type": "code",
      "source": [
        "def euclidean_distance(point, others, ax=1):\n",
        "    return np.linalg.norm(point - others, axis=ax)"
      ],
      "metadata": {
        "id": "EuvnqtxJgZHc"
      },
      "execution_count": null,
      "outputs": []
    },
    {
      "cell_type": "markdown",
      "source": [
        "Tạo ma trận lưu C cũ để có thể tính độ lệch sau mỗi bước lần lặp thuật toán:"
      ],
      "metadata": {
        "id": "_BNjgY3IhZ7g"
      }
    },
    {
      "cell_type": "code",
      "source": [
        "C_prev = np.zeros(C.shape)"
      ],
      "metadata": {
        "id": "xrukmiF-himM"
      },
      "execution_count": null,
      "outputs": []
    },
    {
      "cell_type": "markdown",
      "source": [
        "Tạo list lưu nhóm mà các điểm thuộc về:"
      ],
      "metadata": {
        "id": "U-U_aqfzh71S"
      }
    },
    {
      "cell_type": "code",
      "source": [
        "clusters = np.zeros(len(X))"
      ],
      "metadata": {
        "id": "dPahL09biAXT"
      },
      "execution_count": null,
      "outputs": []
    },
    {
      "cell_type": "markdown",
      "source": [
        "Đo khoảng cách của các trọng tâm giữa vị trí hiện tại và vị trí cũ:"
      ],
      "metadata": {
        "id": "p_eEaerXiNh3"
      }
    },
    {
      "cell_type": "code",
      "source": [
        "distance_differences = euclidean_distance(C, C_prev)"
      ],
      "metadata": {
        "id": "-_Pt1E0Xj_8X"
      },
      "execution_count": null,
      "outputs": []
    },
    {
      "cell_type": "markdown",
      "source": [
        "Lặp cho tới khi các điểm trọng tâm không còn thay đổi vị trí nữa:"
      ],
      "metadata": {
        "id": "e4jsX0xplaWK"
      }
    },
    {
      "cell_type": "code",
      "source": [
        "while distance_differences.any() != 0:\n",
        "    # Gán nhóm cho từng điểm:\n",
        "    for i in range(len(X)):\n",
        "        distances = euclidean_distance(X[i], C)\n",
        "        # Trả về chỉ số của giá trị khoảng cách nhỏ nhất trong dãy giá trị tính được:\n",
        "        cluster = np.argmin(distances)\n",
        "        clusters[i] = cluster\n",
        "    # Sau khi kết thúc, lưu trữ vị trí của các điểm trong C:\n",
        "    C_prev = deepcopy(C)\n",
        "    # Tìm các vị trí trọng tâm mới:\n",
        "    for i in range(k):\n",
        "        points = [X[j] for j in range(len(X)) if clusters[j] == i]\n",
        "        if len(points) != 0:\n",
        "            C[i] = np.mean(points, axis=0)\n",
        "    distance_differences = euclidean_distance(C, C_prev)"
      ],
      "metadata": {
        "id": "gNbCSM4-laqc"
      },
      "execution_count": null,
      "outputs": []
    },
    {
      "cell_type": "markdown",
      "source": [
        "Vẽ biểu đồ phân tán:"
      ],
      "metadata": {
        "id": "bPL9y26E3C-C"
      }
    },
    {
      "cell_type": "code",
      "source": [
        "colors = ['b', 'r', 'y', 'g', 'c', 'm']\n",
        "for i in range(k):\n",
        "    points = np.array([X[j] for j in range(len(X)) if clusters[j] == i])\n",
        "    if len(points) > 0:\n",
        "        plt.scatter(points[:, 0], points[:, 1], s=10, c=colors[i])\n",
        "    else: # Nhóm này không chứa điểm nào\n",
        "        print(\"Plesae regenerate your centroids again.\")\n",
        "        \n",
        "plt.scatter(points[:, 0], points[:, 1], s=10, c=colors[i])\n",
        "plt.scatter(C[:, 0], C[:, 1], marker='*', s=100, c='black')"
      ],
      "metadata": {
        "colab": {
          "base_uri": "https://localhost:8080/",
          "height": 282
        },
        "id": "IihYzuwM3HSN",
        "outputId": "023b482c-25da-4e17-9c41-c729e8539da2"
      },
      "execution_count": null,
      "outputs": [
        {
          "output_type": "execute_result",
          "data": {
            "text/plain": [
              "<matplotlib.collections.PathCollection at 0x7f401b3fb0d0>"
            ]
          },
          "metadata": {},
          "execution_count": 17
        },
        {
          "output_type": "display_data",
          "data": {
            "text/plain": [
              "<Figure size 432x288 with 1 Axes>"
            ],
            "image/png": "[encoded data removed]"
          },
          "metadata": {
            "needs_background": "light"
          }
        }
      ]
    },
    {
      "cell_type": "markdown",
      "source": [
        "### Use K-means in Scikit-learn - Sử dụng K-means trong Scikit-learn"
      ],
      "metadata": {
        "id": "U7Rs985V4hbT"
      }
    },
    {
      "cell_type": "markdown",
      "source": [
        "Thay vì dựng thuật toán K-means bằng tay, ta có thể sử dụng class `KMeans` trong thư viện Scikit-learn:"
      ],
      "metadata": {
        "id": "V0BZMHb04ycN"
      }
    },
    {
      "cell_type": "code",
      "source": [
        "from sklearn.cluster import KMeans\n",
        "\n",
        "kmeans = KMeans(n_clusters=k)"
      ],
      "metadata": {
        "id": "Zm6OJKgz4rMt"
      },
      "execution_count": null,
      "outputs": []
    },
    {
      "cell_type": "markdown",
      "source": [
        "Đào tạo model:"
      ],
      "metadata": {
        "id": "OxGQy8Ef5E6r"
      }
    },
    {
      "cell_type": "code",
      "source": [
        "kmeans = kmeans.fit(X)"
      ],
      "metadata": {
        "id": "fIDmDc4P5K2I"
      },
      "execution_count": null,
      "outputs": []
    },
    {
      "cell_type": "markdown",
      "source": [
        "Gán nhãn cho các điểm:"
      ],
      "metadata": {
        "id": "phV-ivg75Sdh"
      }
    },
    {
      "cell_type": "code",
      "source": [
        "labels = kmeans.predict(X)"
      ],
      "metadata": {
        "id": "i5C_Kqwm5VLV"
      },
      "execution_count": null,
      "outputs": []
    },
    {
      "cell_type": "markdown",
      "source": [
        "Lấy các điểm trọng tâm:"
      ],
      "metadata": {
        "id": "6xQ9pvan5Xgg"
      }
    },
    {
      "cell_type": "code",
      "source": [
        "centroids = kmeans.cluster_centers_"
      ],
      "metadata": {
        "id": "tTdiemfh5aqw"
      },
      "execution_count": null,
      "outputs": []
    },
    {
      "cell_type": "markdown",
      "source": [
        "Kết quả:"
      ],
      "metadata": {
        "id": "fvjBy35H5hP2"
      }
    },
    {
      "cell_type": "code",
      "source": [
        "print(labels)\n",
        "print(centroids)"
      ],
      "metadata": {
        "colab": {
          "base_uri": "https://localhost:8080/"
        },
        "id": "yYtiAaX-5iww",
        "outputId": "ed2f337f-f199-44e0-9849-ecc72ee6c23e"
      },
      "execution_count": null,
      "outputs": [
        {
          "output_type": "stream",
          "name": "stdout",
          "text": [
            "[1 1 1 1 1 0 0 0 2 0 1 0 0 0 0 1 2 2 0]\n",
            "[[6.77777778 8.11111111]\n",
            " [2.         2.71428571]\n",
            " [7.66666667 5.33333333]]\n"
          ]
        }
      ]
    },
    {
      "cell_type": "code",
      "source": [
        "c = ['b','r','y','g','c','m']\n",
        "colors = [c[i] for i in labels]\n",
        "plt.scatter(dataFrame['x'], dataFrame['y'], c=colors, s=18)\n",
        "plt.scatter(centroids[:, 0], centroids[:, 1], marker='*', s=100, c='black')"
      ],
      "metadata": {
        "colab": {
          "base_uri": "https://localhost:8080/",
          "height": 282
        },
        "id": "dR2mSBRe6BOk",
        "outputId": "5b3fdcfd-a4d7-4446-ad64-27c0ff86df46"
      },
      "execution_count": null,
      "outputs": [
        {
          "output_type": "execute_result",
          "data": {
            "text/plain": [
              "<matplotlib.collections.PathCollection at 0x7f400b5691d0>"
            ]
          },
          "metadata": {},
          "execution_count": 23
        },
        {
          "output_type": "display_data",
          "data": {
            "text/plain": [
              "<Figure size 432x288 with 1 Axes>"
            ],
            "image/png": "[encoded data removed]"
          },
          "metadata": {
            "needs_background": "light"
          }
        }
      ]
    },
    {
      "cell_type": "markdown",
      "source": [
        "## Evaluating Cluster Size Using the Silhouette Coefficient - Đánh giá kích thước cụm bằng hệ số Silhouette"
      ],
      "metadata": {
        "id": "SPa3c-X66cJy"
      }
    },
    {
      "cell_type": "markdown",
      "source": [
        "Để xác định giá trị cho k sao cho tối ưu, ta cần sử dụng hệ số Silhouette.\n",
        "\n",
        "Các hệ số này là thước đo chất lượng phân cụm mà ta đạt được.\n",
        "\n",
        "Nó đo lường sự gắn kết cụm, là không gian giữa các cụm.\n",
        "\n",
        "Phạm vi giá trị cho hệ số Silhouette nằm trong khoảng –1 đến 1.\n",
        "\n",
        "Công thức Hệ số Silhouette được đưa ra như sau: $1 - (a/b)$\n",
        "\n",
        "Với:\n",
        "- a là khoảng cách trung bình của một điểm đến tất cả các điểm khác trong cùng\n",
        "một cụm. Nếu a nhỏ, sự liên kết cụm tốt, vì tất cả các điểm đều gần nhau.\n",
        "- b là khoảng cách trung bình nhỏ nhất của một điểm đến tất cả các điểm khác\n",
        "trong cụm gần nhất. Nếu b lớn, tách cụm là tốt, vì cụm gần nhất cách xa nhau.\n",
        "\n",
        "Nếu a nhỏ và b lớn, hệ số Silhouette cao. Giá trị của k mang lại bởi hệ số Silhouette cao nhất được gọi là k tối ưu."
      ],
      "metadata": {
        "id": "_jKaQvt66lk0"
      }
    },
    {
      "cell_type": "markdown",
      "source": [
        "### Triển khai qua `sklearn`"
      ],
      "metadata": {
        "id": "Jo5NAhGi8q19"
      }
    },
    {
      "cell_type": "markdown",
      "source": [
        "#### Tìm hệ số Silhouette:"
      ],
      "metadata": {
        "id": "voTWjRlt9Vwp"
      }
    },
    {
      "cell_type": "code",
      "source": [
        "from sklearn import metrics\n",
        "\n",
        "silhouette_samples = metrics.silhouette_samples(X, kmeans.labels_)\n",
        "\n",
        "print(silhouette_samples)\n",
        "print(\"Average of Silhouette Coefficients for k =\", k)\n",
        "print(\"============================================\")\n",
        "print(\"Silhouette mean:\", silhouette_samples.mean())"
      ],
      "metadata": {
        "colab": {
          "base_uri": "https://localhost:8080/"
        },
        "id": "WHgFy71r8vQ2",
        "outputId": "a945d9ab-ceec-4a96-c793-3d628046498d"
      },
      "execution_count": null,
      "outputs": [
        {
          "output_type": "stream",
          "name": "stdout",
          "text": [
            "[0.67534567 0.73722797 0.73455072 0.66254937 0.6323039  0.33332111\n",
            " 0.63792468 0.58821402 0.29141777 0.59137721 0.50802377 0.63792468\n",
            " 0.52511161 0.33332111 0.63792468 0.60168807 0.51664787 0.42831295\n",
            " 0.52511161]\n",
            "Average of Silhouette Coefficients for k = 3\n",
            "============================================\n",
            "Silhouette mean: 0.5578051985195768\n"
          ]
        }
      ]
    },
    {
      "cell_type": "markdown",
      "source": [
        "#### Tìm k tối ưu:"
      ],
      "metadata": {
        "id": "_UQ7jGg49aLC"
      }
    },
    {
      "cell_type": "code",
      "source": [
        "silhouette_avgs = []\n",
        "min_k = 2"
      ],
      "metadata": {
        "id": "7bGT8IFJ9zK2"
      },
      "execution_count": null,
      "outputs": []
    },
    {
      "cell_type": "markdown",
      "source": [
        "Thử k từ 2 cho tới số nhãn tối đa có thể có:"
      ],
      "metadata": {
        "id": "PvEJBpqU918N"
      }
    },
    {
      "cell_type": "code",
      "source": [
        "for k in range(min_k, len(X)):\n",
        "    kmean = KMeans(n_clusters=k).fit(X)\n",
        "    score = metrics.silhouette_score(X, kmean.labels_)\n",
        "    print(\"Silhouette Coefficients for k =\", k, \"is\", score)\n",
        "    silhouette_avgs.append(score)"
      ],
      "metadata": {
        "colab": {
          "base_uri": "https://localhost:8080/"
        },
        "id": "90uU51Ro98De",
        "outputId": "265cab7c-f0f5-4aa5-b665-3739a7e66518"
      },
      "execution_count": null,
      "outputs": [
        {
          "output_type": "stream",
          "name": "stdout",
          "text": [
            "Silhouette Coefficients for k = 2 is 0.6897112069939448\n",
            "Silhouette Coefficients for k = 3 is 0.5578051985195768\n",
            "Silhouette Coefficients for k = 4 is 0.4430381814640289\n",
            "Silhouette Coefficients for k = 5 is 0.45599458528403614\n",
            "Silhouette Coefficients for k = 6 is 0.40864774283903305\n",
            "Silhouette Coefficients for k = 7 is 0.4024852557170878\n",
            "Silhouette Coefficients for k = 8 is 0.43678049756166826\n",
            "Silhouette Coefficients for k = 9 is 0.4477506360741836\n",
            "Silhouette Coefficients for k = 10 is 0.5124113408422506\n",
            "Silhouette Coefficients for k = 11 is 0.4695564671186216\n",
            "Silhouette Coefficients for k = 12 is 0.4409831398126504\n",
            "Silhouette Coefficients for k = 13 is 0.4255677072435213\n",
            "Silhouette Coefficients for k = 14 is 0.383836485200708\n",
            "Silhouette Coefficients for k = 15 is 0.3684210526315789\n",
            "Silhouette Coefficients for k = 16 is 0.3684210526315789\n"
          ]
        },
        {
          "output_type": "stream",
          "name": "stderr",
          "text": [
            "/usr/local/lib/python3.7/dist-packages/ipykernel_launcher.py:2: ConvergenceWarning: Number of distinct clusters (15) found smaller than n_clusters (16). Possibly due to duplicate points in X.\n",
            "  \n",
            "/usr/local/lib/python3.7/dist-packages/ipykernel_launcher.py:2: ConvergenceWarning: Number of distinct clusters (15) found smaller than n_clusters (17). Possibly due to duplicate points in X.\n",
            "  \n"
          ]
        },
        {
          "output_type": "stream",
          "name": "stdout",
          "text": [
            "Silhouette Coefficients for k = 17 is 0.3684210526315789\n",
            "Silhouette Coefficients for k = 18 is 0.3684210526315789\n"
          ]
        },
        {
          "output_type": "stream",
          "name": "stderr",
          "text": [
            "/usr/local/lib/python3.7/dist-packages/ipykernel_launcher.py:2: ConvergenceWarning: Number of distinct clusters (15) found smaller than n_clusters (18). Possibly due to duplicate points in X.\n",
            "  \n"
          ]
        }
      ]
    },
    {
      "cell_type": "markdown",
      "source": [
        "Biểu diễn qua đồ thị:"
      ],
      "metadata": {
        "id": "aTXdqqK5-2fX"
      }
    },
    {
      "cell_type": "code",
      "source": [
        "f, ax = plt.subplots(figsize=(7, 5))\n",
        "ax.plot(range(min_k, len(X)), silhouette_avgs)\n",
        "plt.xlabel(\"Number of clusters\")\n",
        "plt.ylabel(\"Silhouette Coefficients\")"
      ],
      "metadata": {
        "colab": {
          "base_uri": "https://localhost:8080/",
          "height": 351
        },
        "id": "FvFHpLs5-IQP",
        "outputId": "51c39f9a-cfd3-47e0-b6eb-3d9b1d98773d"
      },
      "execution_count": null,
      "outputs": [
        {
          "output_type": "execute_result",
          "data": {
            "text/plain": [
              "Text(0, 0.5, 'Silhouette Coefficients')"
            ]
          },
          "metadata": {},
          "execution_count": 27
        },
        {
          "output_type": "display_data",
          "data": {
            "text/plain": [
              "<Figure size 504x360 with 1 Axes>"
            ],
            "image/png": "[encoded data removed]"
          },
          "metadata": {
            "needs_background": "light"
          }
        }
      ]
    },
    {
      "cell_type": "markdown",
      "source": [
        "Giá trị k tối ưu sẽ là giá trị k khi hệ số Silhouette cao nhất:"
      ],
      "metadata": {
        "id": "sW6toR3h_AOV"
      }
    },
    {
      "cell_type": "code",
      "source": [
        "Optimal_K = silhouette_avgs.index(max(silhouette_avgs)) + min_k\n",
        "print(\"Optimal K is\", Optimal_K)"
      ],
      "metadata": {
        "colab": {
          "base_uri": "https://localhost:8080/"
        },
        "id": "budysVow_H2Q",
        "outputId": "3190decd-d4f4-463f-f819-57554b93a7b4"
      },
      "execution_count": null,
      "outputs": [
        {
          "output_type": "stream",
          "name": "stdout",
          "text": [
            "Optimal K is 2\n"
          ]
        }
      ]
    },
    {
      "cell_type": "markdown",
      "source": [
        "## Using K-Means to Solve Real-Life Problems - Sử dụng K-Means để giải quyết các vấn đề ngoài đời"
      ],
      "metadata": {
        "id": "xZjgiZm4_RXM"
      }
    },
    {
      "cell_type": "markdown",
      "source": [
        "Giả sử bạn là một nhà thiết kế quần áo và bạn được giao nhiệm vụ thiết kế một loạt quần short Bermuda mới. Một trong những vấn đề thiết kế là bạn cần phải đưa ra một loạt các kích thước sao cho phù hợp với hầu hết mọi người. Về cơ bản, bạn cần có một loạt quy mô của những người khác nhau:\n",
        "- Waist Circumference (chu vi vòng eo).\n",
        "- Upper Leg Length (chiều dài chân trên).\n",
        "\n",
        "Điều đầu tiên bạn cần làm là nắm được tập dữ liệu chứa các số đo của một nhóm người (ở một độ tuổi nhất định). Sử dụng tập dữ liệu này, bạn có thể áp dụng thuật toán K-Means để nhóm những người này thành các cụm dựa trên số đo cụ thể của các bộ phận cơ thể của họ. Khi các cụm được tìm thấy, bây giờ bạn sẽ có một bức tranh rất rõ ràng về các kích thước mà bạn cần thiết kế.\n",
        "\n",
        "Data source: https://data.world/rhoyt/body-measurements\n",
        "\n",
        "Các cột cần trong dữ liệu:\n",
        "- BMXWAIST: Waist Circumference (cm).\n",
        "- BMXLEG: Upper Leg Length (cm)"
      ],
      "metadata": {
        "id": "9oNva99t_c2U"
      }
    },
    {
      "cell_type": "markdown",
      "source": [
        "### Import Libraries and load data"
      ],
      "metadata": {
        "id": "pGkvYU4aA72u"
      }
    },
    {
      "cell_type": "code",
      "source": [
        "import numpy as np\n",
        "import pandas as pd\n",
        "\n",
        "df = pd.read_csv(\"BMX_G.csv\")"
      ],
      "metadata": {
        "id": "NhQ7TyE1A4EE"
      },
      "execution_count": null,
      "outputs": []
    },
    {
      "cell_type": "markdown",
      "source": [
        "### Cleaning the data"
      ],
      "metadata": {
        "id": "eLYJ1VpsBF0L"
      }
    },
    {
      "cell_type": "code",
      "source": [
        "# Check:\n",
        "df.isnull().sum()"
      ],
      "metadata": {
        "colab": {
          "base_uri": "https://localhost:8080/"
        },
        "id": "Pl5S-K4XBMsT",
        "outputId": "56e69413-b890-4bbb-cd7d-9e31b6996e01"
      },
      "execution_count": null,
      "outputs": [
        {
          "output_type": "execute_result",
          "data": {
            "text/plain": [
              "Unnamed: 0       0\n",
              "seqn             0\n",
              "bmdstats         0\n",
              "bmxwt           95\n",
              "bmiwt         8959\n",
              "bmxrecum      8259\n",
              "bmirecum      9307\n",
              "bmxhead       9102\n",
              "bmihead       9338\n",
              "bmxht          723\n",
              "bmiht         9070\n",
              "bmxbmi         736\n",
              "bmdbmic       5983\n",
              "bmxleg        2383\n",
              "bmileg        8984\n",
              "bmxarml        512\n",
              "bmiarml       8969\n",
              "bmxarmc        512\n",
              "bmiarmc       8965\n",
              "bmxwaist      1134\n",
              "bmiwaist      8882\n",
              "bmxsad1       2543\n",
              "bmxsad2       2543\n",
              "bmxsad3       8940\n",
              "bmxsad4       8940\n",
              "bmdavsad      2543\n",
              "bmdsadcm      8853\n",
              "dtype: int64"
            ]
          },
          "metadata": {},
          "execution_count": 30
        }
      ]
    },
    {
      "cell_type": "markdown",
      "source": [
        "Loại bỏ những hàng bị thiếu giá trị ở 2 cột ta cần:"
      ],
      "metadata": {
        "id": "gH25XEiSBi45"
      }
    },
    {
      "cell_type": "code",
      "source": [
        "df = df.dropna(subset=['bmxleg','bmxwaist'])\n",
        "print(df.shape)"
      ],
      "metadata": {
        "colab": {
          "base_uri": "https://localhost:8080/"
        },
        "id": "4LHkrwflBpFW",
        "outputId": "2966c732-b0a4-40d9-f73f-b7496cf962f1"
      },
      "execution_count": null,
      "outputs": [
        {
          "output_type": "stream",
          "name": "stdout",
          "text": [
            "(6899, 27)\n"
          ]
        }
      ]
    },
    {
      "cell_type": "markdown",
      "source": [
        "### Plotting the Scatter Plot - Vẽ biểu đồ phân tán"
      ],
      "metadata": {
        "id": "8LJdFHd2BzVQ"
      }
    },
    {
      "cell_type": "code",
      "source": [
        "import matplotlib.pyplot as plt\n",
        "plt.scatter(df['bmxleg'],df['bmxwaist'], c='r', s=2)\n",
        "plt.xlabel(\"Upper leg Length (cm)\")\n",
        "plt.ylabel(\"Waist Circumference (cm)\")"
      ],
      "metadata": {
        "colab": {
          "base_uri": "https://localhost:8080/",
          "height": 297
        },
        "id": "XXuOcgxFB4gV",
        "outputId": "c1e2433c-9366-4ef7-d7d2-c74e4883ee47"
      },
      "execution_count": null,
      "outputs": [
        {
          "output_type": "execute_result",
          "data": {
            "text/plain": [
              "Text(0, 0.5, 'Waist Circumference (cm)')"
            ]
          },
          "metadata": {},
          "execution_count": 32
        },
        {
          "output_type": "display_data",
          "data": {
            "text/plain": [
              "<Figure size 432x288 with 1 Axes>"
            ],
            "image/png": "[encoded data removed]"
          },
          "metadata": {
            "needs_background": "light"
          }
        }
      ]
    },
    {
      "cell_type": "markdown",
      "source": [
        "### Clustering Using K-Means - Phân cụm bằng K-Means"
      ],
      "metadata": {
        "id": "G9bBWKARB_Ew"
      }
    },
    {
      "cell_type": "code",
      "source": [
        "from sklearn.cluster import KMeans\n",
        "k = 2\n",
        "X = np.array(list(zip(df['bmxleg'],df['bmxwaist'])))\n",
        "kmeans = KMeans(n_clusters=k)\n",
        "kmeans = kmeans.fit(X)\n",
        "labels = kmeans.predict(X)\n",
        "centroids = kmeans.cluster_centers_\n",
        "c = ['b','r','y','g','c','m']\n",
        "colors = [c[i] for i in labels]\n",
        "plt.scatter(df['bmxleg'],df['bmxwaist'], c=colors, s=2)\n",
        "plt.scatter(centroids[:, 0], centroids[:, 1], marker='*', s=100, c='black')"
      ],
      "metadata": {
        "colab": {
          "base_uri": "https://localhost:8080/",
          "height": 283
        },
        "id": "rGZKUNEECRWL",
        "outputId": "c25b7e02-eb3f-4b91-869a-7fffa120b3ae"
      },
      "execution_count": null,
      "outputs": [
        {
          "output_type": "execute_result",
          "data": {
            "text/plain": [
              "<matplotlib.collections.PathCollection at 0x7f400b35ce90>"
            ]
          },
          "metadata": {},
          "execution_count": 33
        },
        {
          "output_type": "display_data",
          "data": {
            "text/plain": [
              "<Figure size 432x288 with 1 Axes>"
            ],
            "image/png": "[encoded data removed]"
          },
          "metadata": {
            "needs_background": "light"
          }
        }
      ]
    },
    {
      "cell_type": "markdown",
      "source": [
        "### Get results - Lấy kết quả"
      ],
      "metadata": {
        "id": "hvfT9-PuCas9"
      }
    },
    {
      "cell_type": "code",
      "source": [
        "print(centroids)"
      ],
      "metadata": {
        "colab": {
          "base_uri": "https://localhost:8080/"
        },
        "id": "4yExP5ENCfzk",
        "outputId": "3bc4d374-882c-4203-d5bb-12b62caa7a1c"
      },
      "execution_count": null,
      "outputs": [
        {
          "output_type": "stream",
          "name": "stdout",
          "text": [
            "[[ 37.6544592   77.88026565]\n",
            " [ 38.82445483 107.96137072]]\n"
          ]
        }
      ]
    },
    {
      "cell_type": "markdown",
      "source": [
        "Điều này có nghĩa là bây giờ bạn có thể thiết kế quần short Bermuda của mình với các kích thước sau:\n",
        "- Vòng eo 77.8 cm, chiều dài chân trên 37.7 cm\n",
        "- Vòng eo 107.9 cm, chiều dài chân trên 38.8 cm"
      ],
      "metadata": {
        "id": "2L9AkY9uCii5"
      }
    }
  ]
}